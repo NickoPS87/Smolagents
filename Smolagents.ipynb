{
 "cells": [
  {
   "cell_type": "code",
   "execution_count": null,
   "id": "917fa3f9-7f86-46cb-9c79-0ad529d7d76d",
   "metadata": {
    "editable": true,
    "scrolled": true,
    "slideshow": {
     "slide_type": ""
    },
    "tags": []
   },
   "outputs": [],
   "source": [
    "# Importando tudo que precisamos\n",
    "from smolagents.agents import CodeAgent\n",
    "from smolagents.default_tools import PythonInterpreterTool\n",
    "from smolagents.models import OpenAIModel\n",
    "\n",
    "# 1. Crie a instância do modelo que se conecta à OpenAI\n",
    "modelo_openai = OpenAIModel(model_id=\"gpt-4-turbo\")\n",
    "\n",
    "# 2. Crie a lista de ferramentas (com a instância da ferramenta)\n",
    "ferramentas_disponiveis = [PythonInterpreterTool()]\n",
    "\n",
    "# 3. Crie o agente com o modelo e as ferramentas\n",
    "agent = CodeAgent(model=modelo_openai, tools=ferramentas_disponiveis)\n",
    "\n",
    "# 4. Defina seu prompt\n",
    "prompt = \"Crie um script em Python que monitora o preço do Bitcoin a cada 5 minutos usando a API pública da CoinGecko e salva o preço e a hora em um arquivo de log chamado bitcoin_price.log.\"\n",
    "\n",
    "# 5. Rode o agente\n",
    "resposta = agent.run(prompt)\n",
    "\n",
    "# 6. Imprima a resposta\n",
    "print(resposta)"
   ]
  },
  {
   "cell_type": "code",
   "execution_count": null,
   "id": "f40e55c6-bae4-48c0-9f85-87640015fe67",
   "metadata": {},
   "outputs": [],
   "source": []
  },
  {
   "cell_type": "code",
   "execution_count": null,
   "id": "066b3eec-0dff-42a0-a3d2-7d8ad2a50c16",
   "metadata": {},
   "outputs": [],
   "source": []
  }
 ],
 "metadata": {
  "kernelspec": {
   "display_name": "Python 3 (ipykernel)",
   "language": "python",
   "name": "python3"
  },
  "language_info": {
   "codemirror_mode": {
    "name": "ipython",
    "version": 3
   },
   "file_extension": ".py",
   "mimetype": "text/x-python",
   "name": "python",
   "nbconvert_exporter": "python",
   "pygments_lexer": "ipython3",
   "version": "3.12.3"
  }
 },
 "nbformat": 4,
 "nbformat_minor": 5
}
