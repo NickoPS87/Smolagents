{
 "cells": [
  {
   "cell_type": "code",
   "execution_count": null,
   "id": "917fa3f9-7f86-46cb-9c79-0ad529d7d76d",
   "metadata": {
    "editable": true,
    "slideshow": {
     "slide_type": ""
    },
    "tags": []
   },
   "outputs": [],
   "source": [
    
    "from smolagents import CodeAgent, WebSearchTool, InferenceClientModel # <-- VOCE ERROU AQUI EU ACHO\n",
    "\n",
    "# Cria a instância do agente com a classe correta\n",
    "agent = CodeAgent(model=\"gpt-4-turbo\") # <-- MUDANÇA AQUI\n",
    "\n",
    "# Define o prompt com a sua ideia\n",
    "prompt = \"Crie um script em Python que monitora o preço do Bitcoin a cada 5 minutos usando a API pública da CoinGecko e salva o preço e a hora em um arquivo de log chamado bitcoin_price.log.\"\n",
    "\n",
    "# Executa o agente\n",
    "resposta = agent.generate(prompt)\n",
    "\n",
    "# Mostra o resultado logo abaixo desta célula\n",
    "print(resposta)"
   ]
  }
 ],
 "metadata": {
  "kernelspec": {
   "display_name": "Python 3 (ipykernel)",
   "language": "python",
   "name": "python3"
  },
  "language_info": {
   "codemirror_mode": {
    "name": "ipython",
    "version": 3
   },
   "file_extension": ".py",
   "mimetype": "text/x-python",
   "name": "python",
   "nbconvert_exporter": "python",
   "pygments_lexer": "ipython3",
   "version": "3.12.3"
  }
 },
 "nbformat": 4,
 "nbformat_minor": 5
}
